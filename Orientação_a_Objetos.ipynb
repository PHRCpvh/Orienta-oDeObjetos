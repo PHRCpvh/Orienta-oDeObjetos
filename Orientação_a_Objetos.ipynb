{
  "nbformat": 4,
  "nbformat_minor": 0,
  "metadata": {
    "colab": {
      "name": "Orientação a Objetos ",
      "provenance": [],
      "authorship_tag": "ABX9TyMMeQcUF+EUwGYKrH5nPIYK",
      "include_colab_link": true
    },
    "kernelspec": {
      "name": "python3",
      "display_name": "Python 3"
    }
  },
  "cells": [
    {
      "cell_type": "markdown",
      "metadata": {
        "id": "view-in-github",
        "colab_type": "text"
      },
      "source": [
        "<a href=\"https://colab.research.google.com/github/PHRCpvh/Orienta-oDeObjetos/blob/master/Orienta%C3%A7%C3%A3o_a_Objetos.ipynb\" target=\"_parent\"><img src=\"https://colab.research.google.com/assets/colab-badge.svg\" alt=\"Open In Colab\"/></a>"
      ]
    },
    {
      "cell_type": "markdown",
      "metadata": {
        "id": "DLRTVYEVl4V3",
        "colab_type": "text"
      },
      "source": [
        "# Getters e Setters"
      ]
    },
    {
      "cell_type": "code",
      "metadata": {
        "id": "9O-lObvJPC-p",
        "colab_type": "code",
        "colab": {
          "base_uri": "https://localhost:8080/",
          "height": 35
        },
        "outputId": "ec1b9680-dcf1-4cfa-a755-64ebce1585ea"
      },
      "source": [
        "class Produto:\n",
        "  def __init__(self, nome, preco):\n",
        "    self.nome = nome\n",
        "    self.preco = preco\n",
        "  \n",
        "  def desconto(self, percentual):\n",
        "    self.preco = self.preco - (self.preco * (percentual/100))\n",
        "\n",
        "  @property\n",
        "  def nome(self):\n",
        "    return self.insert_nome\n",
        "\n",
        "  @nome.setter\n",
        "  def nome(self, valor):\n",
        "    self.insert_nome = valor.title()\n",
        "\n",
        "  #Getter\n",
        "  @property\n",
        "  def preco(self):\n",
        "    return self.get_preco\n",
        "\n",
        "  #Setter\n",
        "  @preco.setter \n",
        "  def preco(self, valor):\n",
        "    if isinstance(valor,str):\n",
        "      valor = float (valor.replace('R$', ''))\n",
        "\n",
        "    self.get_preco = valor\n",
        "\n",
        "p1 = Produto('PNEU', 400)\n",
        "p1.desconto(10)\n",
        "print(p1.nome, 'Preço com desconto: ',  p1.preco)"
      ],
      "execution_count": null,
      "outputs": [
        {
          "output_type": "stream",
          "text": [
            "Pneu Preço com desconto:  360.0\n"
          ],
          "name": "stdout"
        }
      ]
    },
    {
      "cell_type": "code",
      "metadata": {
        "id": "c1VOnnh7QWzg",
        "colab_type": "code",
        "colab": {
          "base_uri": "https://localhost:8080/",
          "height": 35
        },
        "outputId": "d680684e-d119-47db-defe-d4f039dafef2"
      },
      "source": [
        "p2 = Produto('Amortecedor', 200)\n",
        "p2.desconto(5)\n",
        "print(p2.nome, 'Preço com desconto: ', p2.preco)"
      ],
      "execution_count": null,
      "outputs": [
        {
          "output_type": "stream",
          "text": [
            "Amortecedor Preço com desconto:  190.0\n"
          ],
          "name": "stdout"
        }
      ]
    },
    {
      "cell_type": "code",
      "metadata": {
        "id": "9UgKfP7mSAdF",
        "colab_type": "code",
        "colab": {
          "base_uri": "https://localhost:8080/",
          "height": 35
        },
        "outputId": "09002037-367d-47ae-f613-1305be87c4f3"
      },
      "source": [
        "p3 = Produto('lanterna', 'R$ 80')\n",
        "p3.desconto(10)\n",
        "print(p3.nome, 'Preço com desconto: ', p3.preco)"
      ],
      "execution_count": null,
      "outputs": [
        {
          "output_type": "stream",
          "text": [
            "Lanterna Preço com desconto:  72.0\n"
          ],
          "name": "stdout"
        }
      ]
    },
    {
      "cell_type": "markdown",
      "metadata": {
        "id": "HrrspjJnfciz",
        "colab_type": "text"
      },
      "source": [
        "# Atributos de Classe"
      ]
    },
    {
      "cell_type": "code",
      "metadata": {
        "id": "138P236ufhV7",
        "colab_type": "code",
        "colab": {
          "base_uri": "https://localhost:8080/",
          "height": 106
        },
        "outputId": "1bc2ae44-4e63-4e24-b41e-1906ad420661"
      },
      "source": [
        "class A:\n",
        "  vc = 123\n",
        "\n",
        "a1 = A()\n",
        "a2 = A()\n",
        "\n",
        "a1.vc = 321\n",
        "\n",
        "print(a1.__dict__)\n",
        "print(a2.__dict__)\n",
        "\n",
        "\n",
        "print()\n",
        "\n",
        "print(a1.vc)\n",
        "print(a2.vc)"
      ],
      "execution_count": null,
      "outputs": [
        {
          "output_type": "stream",
          "text": [
            "{'vc': 321}\n",
            "{}\n",
            "\n",
            "321\n",
            "123\n"
          ],
          "name": "stdout"
        }
      ]
    },
    {
      "cell_type": "code",
      "metadata": {
        "id": "nvn27sCCftDm",
        "colab_type": "code",
        "colab": {
          "base_uri": "https://localhost:8080/",
          "height": 35
        },
        "outputId": "a27ae0eb-726b-499a-e2cf-86207243b1a3"
      },
      "source": [
        "print(A.vc)"
      ],
      "execution_count": null,
      "outputs": [
        {
          "output_type": "stream",
          "text": [
            "123\n"
          ],
          "name": "stdout"
        }
      ]
    },
    {
      "cell_type": "markdown",
      "metadata": {
        "id": "bQzCtTZE0NUz",
        "colab_type": "text"
      },
      "source": [
        "# Encapsulamento"
      ]
    },
    {
      "cell_type": "code",
      "metadata": {
        "id": "4uG2rln_0RZb",
        "colab_type": "code",
        "colab": {
          "base_uri": "https://localhost:8080/",
          "height": 35
        },
        "outputId": "eee69516-01d8-4626-a8ca-90cc8d3c0a71"
      },
      "source": [
        "\"\"\"\n",
        "public, protected, private\n",
        "_ protected (oculto)\n",
        "__ privado (restrito)\n",
        "\"\"\"\n",
        "class BaseDeDados:\n",
        "  def __init__(self):\n",
        "    self.dados = {}\n",
        "\n",
        "  def inserir_cliente(self, id, nome):\n",
        "    if 'clientes' not in self.dados:\n",
        "      self.dados['clientes'] = {id: nome}\n",
        "    else: \n",
        "      self.dados['clientes'].update({id: nome})\n",
        "\n",
        "  def lista_clientes(self):\n",
        "    for id, nome in self.dados['clientes'].items():\n",
        "      print(id, nome)\n",
        "\n",
        "  def apaga_cliente(self, id):\n",
        "    del self.dados['clientes'][id]\n",
        "\n",
        "\n",
        "bd = BaseDeDados()\n",
        "bd.inserir_cliente(1, 'Lúcio')\n",
        "bd.inserir_cliente(2, 'Hermes')\n",
        "bd.inserir_cliente(3, 'Júlia')\n",
        "print(bd.dados)"
      ],
      "execution_count": null,
      "outputs": [
        {
          "output_type": "stream",
          "text": [
            "{'clientes': {1: 'Lúcio', 2: 'Hermes', 3: 'Júlia'}}\n"
          ],
          "name": "stdout"
        }
      ]
    },
    {
      "cell_type": "code",
      "metadata": {
        "id": "oi2y7eh42cCX",
        "colab_type": "code",
        "colab": {}
      },
      "source": [
        "bd.apaga_cliente(2)"
      ],
      "execution_count": null,
      "outputs": []
    },
    {
      "cell_type": "code",
      "metadata": {
        "id": "CHChICr_2gSO",
        "colab_type": "code",
        "colab": {
          "base_uri": "https://localhost:8080/",
          "height": 35
        },
        "outputId": "7d9741e6-9fcd-4b21-dad0-5782468f51b2"
      },
      "source": [
        "print(bd.dados)"
      ],
      "execution_count": null,
      "outputs": [
        {
          "output_type": "stream",
          "text": [
            "{'clientes': {1: 'Lúcio', 3: 'Júlia'}}\n"
          ],
          "name": "stdout"
        }
      ]
    },
    {
      "cell_type": "code",
      "metadata": {
        "id": "WeEhQ41T2ios",
        "colab_type": "code",
        "colab": {}
      },
      "source": [
        "bd.inserir_cliente (2, 'Helena')\n",
        "bd.inserir_cliente (4, 'Bernardo')\n",
        "print(bd.dados)"
      ],
      "execution_count": null,
      "outputs": []
    },
    {
      "cell_type": "code",
      "metadata": {
        "id": "jvPZqi1k6-wD",
        "colab_type": "code",
        "colab": {
          "base_uri": "https://localhost:8080/",
          "height": 35
        },
        "outputId": "c4054b25-f912-4052-e854-1e89765e5338"
      },
      "source": [
        "print(bd.dados)"
      ],
      "execution_count": null,
      "outputs": [
        {
          "output_type": "stream",
          "text": [
            "{'clientes': {1: 'Lúcio', 3: 'Júlia', 2: 'Helena', 4: 'Bernardo'}}\n"
          ],
          "name": "stdout"
        }
      ]
    },
    {
      "cell_type": "code",
      "metadata": {
        "id": "I24EQEWn7Elq",
        "colab_type": "code",
        "colab": {
          "base_uri": "https://localhost:8080/",
          "height": 88
        },
        "outputId": "a1df6532-3b86-4b92-c1dc-b39bca860ae7"
      },
      "source": [
        "bd.lista_clientes()"
      ],
      "execution_count": null,
      "outputs": [
        {
          "output_type": "stream",
          "text": [
            "1 Lúcio\n",
            "3 Júlia\n",
            "2 Helena\n",
            "4 Bernardo\n"
          ],
          "name": "stdout"
        }
      ]
    },
    {
      "cell_type": "markdown",
      "metadata": {
        "id": "9-KLzGlzKDIZ",
        "colab_type": "text"
      },
      "source": [
        "# Associação"
      ]
    },
    {
      "cell_type": "code",
      "metadata": {
        "id": "5B2I8gdfKFI-",
        "colab_type": "code",
        "colab": {}
      },
      "source": [
        "class Escritor:\n",
        "  def __init__(self, nome):\n",
        "    self.__nome = nome\n",
        "\n",
        "  @property\n",
        "  def nome(self):\n",
        "    return self.__nome"
      ],
      "execution_count": null,
      "outputs": []
    },
    {
      "cell_type": "markdown",
      "metadata": {
        "id": "sISmULLpqFeO",
        "colab_type": "text"
      },
      "source": [
        "# Agregação"
      ]
    },
    {
      "cell_type": "code",
      "metadata": {
        "id": "b9mKEM9wqIgX",
        "colab_type": "code",
        "colab": {}
      },
      "source": [
        "class CarrinhoDeCompras:\n",
        "  def __init__(self):\n",
        "    self.produtos = []\n",
        "  \n",
        "  def inserir_produto(self, produto):\n",
        "    self.produtos.append(produto)\n",
        "\n",
        "  def lista_produto(self):\n",
        "    for produto in self.produtos:\n",
        "      print(produto.nome, produto.valor)\n",
        "\n",
        "  def soma_total(self):\n",
        "    total = 0\n",
        "    for produto in self.produtos:\n",
        "      total += produto.valor\n",
        "    return total\n",
        "\n",
        "class Produto:\n",
        "  def __init__(self, nome, valor):\n",
        "    self.nome = nome\n",
        "    self.valor = valor\n",
        "\n"
      ],
      "execution_count": null,
      "outputs": []
    },
    {
      "cell_type": "markdown",
      "metadata": {
        "id": "64Pe_05yrLiq",
        "colab_type": "text"
      },
      "source": [
        "# Composição"
      ]
    },
    {
      "cell_type": "code",
      "metadata": {
        "id": "pqhe2K2QrOJ5",
        "colab_type": "code",
        "colab": {}
      },
      "source": [
        "class Cliente:\n",
        "  def __init__(self, nome, idade):\n",
        "    self.nome = nome\n",
        "    self.idade = idade\n",
        "    self.enderecos = []\n",
        "\n",
        "  def insere_endereco(self, cidade, UF):\n",
        "    self.enderecos.append(Endereco(cidade, UF))\n",
        "\n",
        "  def lista_enderecos(self):\n",
        "    for endereco in self.enderecos:\n",
        "      print(endereco.cidade, endereco.UF)\n",
        "\n",
        "\n",
        "class Endereco:\n",
        "  def __del__(self, cidade,UF):\n",
        "    self.cidade = cidade\n",
        "    self.UF = UF\n"
      ],
      "execution_count": null,
      "outputs": []
    },
    {
      "cell_type": "markdown",
      "metadata": {
        "id": "pxGz-UUAwSAq",
        "colab_type": "text"
      },
      "source": [
        "# Herança Simples"
      ]
    },
    {
      "cell_type": "code",
      "metadata": {
        "id": "7QMXxWNNwU5o",
        "colab_type": "code",
        "colab": {}
      },
      "source": [
        "\"\"\"\n",
        "Associação - Usa | Agregação - Tem | Composição - É dono | Herança - É\n",
        "\"\"\"\n"
      ],
      "execution_count": null,
      "outputs": []
    }
  ]
}